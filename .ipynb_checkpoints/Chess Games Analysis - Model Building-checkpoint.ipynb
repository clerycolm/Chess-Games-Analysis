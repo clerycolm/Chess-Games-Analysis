{
 "cells": [
  {
   "cell_type": "markdown",
   "id": "1d3735f4-067d-46b0-9425-99e18da444c8",
   "metadata": {},
   "source": [
    "# Building Classifiers for Chess Game Outcomes\n",
    "\n",
    "After a comprehensive Exploratory Data Analysis (EDA) of the Chess Games dataset, we are venturing into the exciting realm of Machine Learning. This section marks the transition from uncovering insights about the dataset to constructing predictive models that will classify and forecast the outcomes of chess games.\n",
    "\n",
    "The EDA provided us with a detailed understanding of the dataset's structure, features, and inherent patterns. We've explored various aspects such as player ratings, accuracy, game length, the influence of tournaments, and correlations between different features. This analysis has equipped us with valuable insights into the characteristics and relationships present within the data.\n",
    "\n",
    "Our objectives for this analysis phase are twofold. Firstly, we aim to construct interpretable models that effectively capture and quantify the relationship between the dataset features and game outcomes. It is of importance that we build upon the insights made in the EDA phase to further our understanding of the game of chess. \n",
    "\n",
    "The second is to use these models to predict game outcomes. By leveraging the insights gained during the EDA phase, we aim to develop models capable of categorizing game results, potentially foreseeing victory, defeat, or draw based on the historical game data.\n",
    "\n",
    "To achieve this, we will apply various classification algorithms. We'll preprocess the data, encode categorical variables, and appropriately scale features. Then, we'll employ classification models of Multinomail Logistic Regression, Random Forests, KNN Classifiers and Support Vector Machines (SVM).\n"
   ]
  },
  {
   "cell_type": "code",
   "execution_count": 21,
   "id": "26b6c25d-1ae5-4b4f-8927-a6c9dfca43dc",
   "metadata": {},
   "outputs": [],
   "source": [
    "import pandas as pd\n",
    "import numpy as np                              \n",
    "from scipy import stats\n",
    "import matplotlib.pyplot as plt\n",
    "import seaborn as sns \n",
    "import statsmodels.api as st\n",
    "\n",
    "from sklearn.model_selection import train_test_split\n",
    "from sklearn.metrics import classification_report,confusion_matrix\n",
    "from sklearn.model_selection import cross_val_score\n",
    "from sklearn.preprocessing import MinMaxScaler\n",
    "from sklearn.preprocessing import OrdinalEncoder\n",
    "from sklearn.compose import ColumnTransformer\n",
    "\n",
    "#Load data and set categories\n",
    "games = pd.read_csv('games_data_clean.csv')\n",
    "games['Result'] = pd.Categorical(values = games['Result'] , categories=['Black Win' , 'Draw' , 'White Win'] , ordered = False)\n",
    "games['Game Type'] = pd.Categorical( values = games['Game Type'] , categories = ['Bullet' , 'Blitz' , 'Rapid'], ordered = True)\n",
    "games['Tournament Game'] = pd.Categorical( values = games['Tournament Game'])\n",
    "games['Title (White)'] = pd.Categorical(values = games['Title (White)'] , categories=['NM','FM','IM','GM'] , ordered = True)\n",
    "games['Title (Black)'] = pd.Categorical(values = games['Title (Black)'] , categories=['NM','FM','IM','GM'] , ordered = True)"
   ]
  },
  {
   "cell_type": "code",
   "execution_count": 22,
   "id": "0807a388-985d-4a6f-bb1e-f6f89b44937e",
   "metadata": {},
   "outputs": [
    {
     "name": "stdout",
     "output_type": "stream",
     "text": [
      "<class 'pandas.core.frame.DataFrame'>\n",
      "RangeIndex: 15706 entries, 0 to 15705\n",
      "Data columns (total 18 columns):\n",
      " #   Column               Non-Null Count  Dtype   \n",
      "---  ------               --------------  -----   \n",
      " 0   Username (White)     15706 non-null  object  \n",
      " 1   Rating (White)       15706 non-null  int64   \n",
      " 2   Title (White)        15706 non-null  category\n",
      " 3   Username (Black)     15706 non-null  object  \n",
      " 4   Rating (Black)       15706 non-null  int64   \n",
      " 5   Title (Black)        15706 non-null  category\n",
      " 6   Result               15706 non-null  category\n",
      " 7   Moves Count          15706 non-null  int64   \n",
      " 8   Date                 15706 non-null  object  \n",
      " 9   Tournament Game      15706 non-null  category\n",
      " 10  Rating Difference    15706 non-null  int64   \n",
      " 11  Accuracy (White)     10006 non-null  float64 \n",
      " 12  Accuracy (Black)     10006 non-null  float64 \n",
      " 13  Accuracy Difference  10006 non-null  float64 \n",
      " 14  Time                 15706 non-null  float64 \n",
      " 15  Interval             15706 non-null  float64 \n",
      " 16  Total Time           15706 non-null  float64 \n",
      " 17  Game Type            15706 non-null  category\n",
      "dtypes: category(5), float64(6), int64(4), object(3)\n",
      "memory usage: 1.6+ MB\n"
     ]
    }
   ],
   "source": [
    "games.info()"
   ]
  },
  {
   "attachments": {},
   "cell_type": "markdown",
   "id": "e72509e1-4050-4750-beec-60ca6feb5e6d",
   "metadata": {},
   "source": [
    "# Data Pre-Processing \n",
    "\n",
    "Before we begin with building classification models, we must prepare the data with preprocessing. The following code will:\n",
    "\n",
    "* **Add constant column:** add a column of contant value equal to 1 to the processed data set. This is necessary to use as an intercept in logistic regression models.\n",
    "\n",
    "* **Address Null Values :** The dataset contains 15706 values in total, with Accuracy (White),  Accuracy (Black) and   Accuracy Difference being the only columns with null values. Recall from EDA phase the Accuracy is heavily linked with game outcome. It's importance cannot be underestimated and so I have chosen not to employ inference techniques at this point that may introduce large predictive error. As noted in the conclusions of EDA phase, investigation and prediction of accuracy scores would warrant further analysis for this reason. After removing null values, 10,006 data points remain. This number is sufficient until further analyses can be carried out.\n",
    "\n",
    "* **Categorical Variable Encoding:** One-Hot-Encoding has been applied to 'Game Type' and 'Tournament Game' variables, as these are suitable for nominal data. 'Title (White)' and 'Title (Black)' variables each encompass four distinct categories and exhibit a clear order. To streamline the data and enhance model interpretability while retaining the ordinal information, ordinal encoding has been utilized for both Title variables.\n",
    "\n",
    "* **Remove Columns:** For our specific objectives, 'Username (White),' 'Username (Black),' and 'Date' variables are deemed superfluous. Consequently, these columns have been removed from our processed dataframe to refine the dataset for modelling purposes."
   ]
  },
  {
   "cell_type": "code",
   "execution_count": 76,
   "id": "810d8c19-c097-4d10-9011-93303f5e9b42",
   "metadata": {
    "jp-MarkdownHeadingCollapsed": true
   },
   "outputs": [
    {
     "name": "stdout",
     "output_type": "stream",
     "text": [
      "<class 'pandas.core.frame.DataFrame'>\n",
      "Index: 10006 entries, 0 to 15698\n",
      "Data columns (total 17 columns):\n",
      " #   Column               Non-Null Count  Dtype   \n",
      "---  ------               --------------  -----   \n",
      " 0   Rating (White)       10006 non-null  int64   \n",
      " 1   Title (White)        10006 non-null  int32   \n",
      " 2   Rating (Black)       10006 non-null  int64   \n",
      " 3   Title (Black)        10006 non-null  int32   \n",
      " 4   Result               10006 non-null  category\n",
      " 5   Moves Count          10006 non-null  int64   \n",
      " 6   Rating Difference    10006 non-null  int64   \n",
      " 7   Accuracy (White)     10006 non-null  float64 \n",
      " 8   Accuracy (Black)     10006 non-null  float64 \n",
      " 9   Accuracy Difference  10006 non-null  float64 \n",
      " 10  Time                 10006 non-null  float64 \n",
      " 11  Interval             10006 non-null  float64 \n",
      " 12  Total Time           10006 non-null  float64 \n",
      " 13  const                10006 non-null  int64   \n",
      " 14  Tournament Game_Y    10006 non-null  int32   \n",
      " 15  Game Type_Blitz      10006 non-null  int32   \n",
      " 16  Game Type_Rapid      10006 non-null  int32   \n",
      "dtypes: category(1), float64(6), int32(5), int64(5)\n",
      "memory usage: 1.1 MB\n"
     ]
    }
   ],
   "source": [
    "#Create a copy of games data - original dataset is used frequently for reference\n",
    "games_processed = games.copy()\n",
    "\n",
    "# Add constant for model fitting\n",
    "games_processed['const'] = 1\n",
    "\n",
    "#Address null values by dropping values\n",
    "games_processed.dropna(inplace=True)\n",
    "\n",
    "#Encoding Categorical Variables\n",
    "#Player Titles\n",
    "ordinal_columns = ['Title (White)' , 'Title (Black)'] \n",
    "# Create an instance of the OrdinalEncoder\n",
    "ordinal_encoder = OrdinalEncoder(categories = [['NM','FM','IM','GM'] , ['NM','FM','IM','GM']])\n",
    "# Create a ColumnTransformer to apply the encoder to specific columns\n",
    "preprocessor = ColumnTransformer( transformers=[('ordinal', ordinal_encoder, ['Title (White)' , 'Title (Black)'] )], remainder='passthrough')\n",
    "#Replace categorical data with encoded data\n",
    "games_processed[['Title (White)' , 'Title (Black)']] = preprocessor.fit_transform(games_processed)[:,:2]\n",
    "games_processed[['Title (White)' , 'Title (Black)']] = games_processed[['Title (White)' , 'Title (Black)']].astype('int')\n",
    "\n",
    "#Encoding Nominal Data \n",
    "games_processed = pd.get_dummies(games_processed , columns= ['Tournament Game' , 'Game Type'] , drop_first=True , dtype=int)\n",
    "\n",
    "#Drop unnecessary columns\n",
    "games_processed.drop(columns= ['Username (White)' , 'Username (Black)' , 'Date'] , inplace=True)\n",
    "\n",
    "#Get info of processed data\n",
    "games_processed.info()"
   ]
  },
  {
   "cell_type": "markdown",
   "id": "9c1d941a-38e6-4ecf-8ca3-5234673837eb",
   "metadata": {},
   "source": [
    "# Multinomial Logistic Regression\n",
    "\n",
    "The model building journey begins with a Multinomial Logistic Regression model. I have chosen to employ a Model Incrementation approach, whereby I begin with a basic model and incrementally enhancing its complexity.\n",
    "\n",
    "This iterative process allows us to navigate the selection of model variables effectively. As noted in the EDA phase, there are several groups of variables which are either correlated or linearly related. For example, Rating (White), Rating (Black) compared to Rating difference or Time and Increment compared to Game Type or Total Time.\n",
    "\n",
    "As mentioned in the introduction, one of our motivations is to further our understanding of variables affecting games outcomes and to quantify and build upon insights from EDA phase. An interative approach will help us achieve this goal.\n",
    "\n",
    "## Rating, Accuracy and Titles \n",
    "\n",
    "Rating, Accuracy, and Titles are evidently highly influential predictors within our dataset. Individually, each of these variables serves as indicator of a players strength and success as a chess player. We begin by creating a baseline model containing the variables Accuracy (White), Accuracy (Black), Rating (White), Rating (Black), Title (White), Title (Black). We will call this *Model 1a*\n",
    "\n",
    "As discussed earlier, we could elect to use Accuracy Difference and Rating Difference over Accuracy and Rating variables. However, some simple math will show that there is no difference between the two methods in reality. \n",
    "\n",
    "Including the terms as above is more easily interpretable and avoids losing information by over-simplification.\n",
    "\n",
    "**Model 1a**"
   ]
  },
  {
   "cell_type": "code",
   "execution_count": 77,
   "id": "1717ae1c-2b01-446c-977e-45657686f160",
   "metadata": {},
   "outputs": [
    {
     "name": "stdout",
     "output_type": "stream",
     "text": [
      "Optimization terminated successfully.\n",
      "         Current function value: 0.346147\n",
      "         Iterations 9\n",
      "                          MNLogit Regression Results                          \n",
      "==============================================================================\n",
      "Dep. Variable:                 Result   No. Observations:                10006\n",
      "Model:                        MNLogit   Df Residuals:                     9992\n",
      "Method:                           MLE   Df Model:                           12\n",
      "Date:                Thu, 02 Nov 2023   Pseudo R-squ.:                  0.6547\n",
      "Time:                        12:08:27   Log-Likelihood:                -3463.6\n",
      "converged:                       True   LL-Null:                       -10032.\n",
      "Covariance Type:            nonrobust   LLR p-value:                     0.000\n",
      "====================================================================================\n",
      "     Result=Draw       coef    std err          z      P>|z|      [0.025      0.975]\n",
      "------------------------------------------------------------------------------------\n",
      "const              -10.1764      1.060     -9.597      0.000     -12.255      -8.098\n",
      "Accuracy (White)     0.5271      0.015     34.685      0.000       0.497       0.557\n",
      "Accuracy (Black)    -0.3852      0.015    -25.653      0.000      -0.415      -0.356\n",
      "Rating (White)       0.0036      0.000     10.198      0.000       0.003       0.004\n",
      "Rating (Black)      -0.0043      0.000    -11.878      0.000      -0.005      -0.004\n",
      "Title (White)       -0.2155      0.066     -3.277      0.001      -0.344      -0.087\n",
      "Title (Black)        0.3607      0.079      4.580      0.000       0.206       0.515\n",
      "------------------------------------------------------------------------------------\n",
      "Result=White Win       coef    std err          z      P>|z|      [0.025      0.975]\n",
      "------------------------------------------------------------------------------------\n",
      "const               -1.7699      1.206     -1.467      0.142      -4.134       0.594\n",
      "Accuracy (White)     0.9249      0.020     45.420      0.000       0.885       0.965\n",
      "Accuracy (Black)    -0.9089      0.020    -45.487      0.000      -0.948      -0.870\n",
      "Rating (White)       0.0081      0.000     18.773      0.000       0.007       0.009\n",
      "Rating (Black)      -0.0079      0.000    -18.285      0.000      -0.009      -0.007\n",
      "Title (White)       -0.5225      0.078     -6.662      0.000      -0.676      -0.369\n",
      "Title (Black)        0.4896      0.084      5.823      0.000       0.325       0.654\n",
      "====================================================================================\n"
     ]
    }
   ],
   "source": [
    "#Set y = results\n",
    "y = games_processed['Result']\n",
    "#Choose exogeneous variables\n",
    "x_cols = ['const' , 'Accuracy (White)' , 'Accuracy (Black)' , 'Rating (White)',  'Rating (Black)' , 'Title (White)' , 'Title (Black)']\n",
    "x = games_processed[x_cols]\n",
    "### specify the model\n",
    "mdl = st.MNLogit(y,x)\n",
    "mdl_fit = mdl.fit()\n",
    "print(mdl_fit.summary()) "
   ]
  },
  {
   "cell_type": "markdown",
   "id": "b80ac7ab-6c20-44bf-8c2a-a0a41e3d0beb",
   "metadata": {},
   "source": [
    "All variables are significant at a $1 \\%$ significance level for both Draw and White Win variables. \n",
    "\n",
    "The coefficient estimates for accuracy and rating are reasonable, however the estimtaes for player titles are counter-intuitive. For Result = White Win, the coefficient estimate for Title (White) is $-0.5225$ and the coefficient estimate for Title (Black) is $0.4896$. This would mean that for each Title that the white player gains, the log odds of this player winning a given game decrease by $0.5225$ and that the log odds of the white player winning increase by $0.4896$ for each title their opponent gain. \n",
    "\n",
    "If we create a model using only player titles and the intercept term, as we have with *Model 1b*, we see that the sign of these coefficient estimates should be reversed. \n",
    "\n",
    "Recall from the EDA phase that players are required to achieve a minimum rating to achieve each title and, as a result, the two are linked. Taking the correlation between the variables for white and Black player in *Model 1a*, we see that the Rating and encoded title variables for each player have a correlation of appproximately $0.41$. This correlation is resulting in colinearity in *Model 1a* and resulting in the counter-intuitive and inaccurate coefficient estimates in this model.\n",
    "\n",
    "**Model 1b**"
   ]
  },
  {
   "cell_type": "code",
   "execution_count": 88,
   "id": "7c0d3555-574e-4c55-976a-9e21ad94bf22",
   "metadata": {},
   "outputs": [
    {
     "name": "stdout",
     "output_type": "stream",
     "text": [
      "Optimization terminated successfully.\n",
      "         Current function value: 0.949774\n",
      "         Iterations 6\n",
      "                          MNLogit Regression Results                          \n",
      "==============================================================================\n",
      "Dep. Variable:                 Result   No. Observations:                10006\n",
      "Model:                        MNLogit   Df Residuals:                    10000\n",
      "Method:                           MLE   Df Model:                            4\n",
      "Date:                Thu, 02 Nov 2023   Pseudo R-squ.:                 0.05266\n",
      "Time:                        12:59:44   Log-Likelihood:                -9503.4\n",
      "converged:                       True   LL-Null:                       -10032.\n",
      "Covariance Type:            nonrobust   LLR p-value:                1.953e-227\n",
      "====================================================================================\n",
      "     Result=Draw       coef    std err          z      P>|z|      [0.025      0.975]\n",
      "------------------------------------------------------------------------------------\n",
      "const               -2.5082      0.194    -12.951      0.000      -2.888      -2.129\n",
      "Title (White)        0.5353      0.043     12.440      0.000       0.451       0.620\n",
      "Title (Black)        0.0547      0.053      1.026      0.305      -0.050       0.159\n",
      "------------------------------------------------------------------------------------\n",
      "Result=White Win       coef    std err          z      P>|z|      [0.025      0.975]\n",
      "------------------------------------------------------------------------------------\n",
      "const                0.2868      0.117      2.452      0.014       0.058       0.516\n",
      "Title (White)        0.5704      0.029     19.616      0.000       0.513       0.627\n",
      "Title (Black)       -0.5972      0.032    -18.629      0.000      -0.660      -0.534\n",
      "====================================================================================\n",
      "\n",
      " Correlation Matrix (White)\n",
      "\n",
      "                   Accuracy (White)  Rating (White)  Title (White)\n",
      "Accuracy (White)          1.000000        0.039688       0.226406\n",
      "Rating (White)            0.039688        1.000000       0.411514\n",
      "Title (White)             0.226406        0.411514       1.000000\n",
      "\n",
      " Correlation Matrix (Black)\n",
      "\n",
      "                   Accuracy (Black)  Rating (Black)  Title (Black)\n",
      "Accuracy (Black)          1.000000        0.031791       0.243032\n",
      "Rating (Black)            0.031791        1.000000       0.412102\n",
      "Title (Black)             0.243032        0.412102       1.000000\n"
     ]
    }
   ],
   "source": [
    "#Set y = results\n",
    "y = games_processed['Result']\n",
    "#Choose exogeneous variables\n",
    "x_cols = ['const' , 'Title (White)' , 'Title (Black)']\n",
    "x = games_processed[x_cols]\n",
    "### specify the model\n",
    "mdl = st.MNLogit(y,x)\n",
    "mdl_fit = mdl.fit()\n",
    "print(mdl_fit.summary()) \n",
    "\n",
    "\n",
    "print('\\n' , \"Correlation Matrix (White)\" )\n",
    "print('\\n' , games_processed[['Accuracy (White)' , 'Rating (White)',  'Title (White)' ]].corr())\n",
    "print('\\n' , \"Correlation Matrix (Black)\" )\n",
    "print('\\n' , games_processed[['Accuracy (Black)' , 'Rating (Black)',  'Title (Black)' ]].corr())"
   ]
  },
  {
   "cell_type": "markdown",
   "id": "e351e880-eda1-43f0-88af-2f1ae8818149",
   "metadata": {},
   "source": [
    "Based on this colinearity issue, I remove Title variables from *Model 1a* to create *Model 1c*.\n",
    "\n",
    "A pseudo R-squared value of $0.6511$ is returned by the model. This means that $65.11 \\% $ of the variability of game results is explained by this model. There are no further issues to address for these variables and I will proceed with *Model 1c* as we introduce Time, Moves Count and Tournament Games variables.\n",
    "\n",
    "**Model 1c**"
   ]
  },
  {
   "cell_type": "code",
   "execution_count": 90,
   "id": "685ab80b-3c43-4da9-babf-664f6146b139",
   "metadata": {},
   "outputs": [
    {
     "name": "stdout",
     "output_type": "stream",
     "text": [
      "Optimization terminated successfully.\n",
      "         Current function value: 0.349751\n",
      "         Iterations 9\n",
      "                          MNLogit Regression Results                          \n",
      "==============================================================================\n",
      "Dep. Variable:                 Result   No. Observations:                10006\n",
      "Model:                        MNLogit   Df Residuals:                     9996\n",
      "Method:                           MLE   Df Model:                            8\n",
      "Date:                Thu, 02 Nov 2023   Pseudo R-squ.:                  0.6511\n",
      "Time:                        13:05:13   Log-Likelihood:                -3499.6\n",
      "converged:                       True   LL-Null:                       -10032.\n",
      "Covariance Type:            nonrobust   LLR p-value:                     0.000\n",
      "====================================================================================\n",
      "     Result=Draw       coef    std err          z      P>|z|      [0.025      0.975]\n",
      "------------------------------------------------------------------------------------\n",
      "const               -9.9655      1.054     -9.457      0.000     -12.031      -7.900\n",
      "Accuracy (White)     0.5223      0.015     34.899      0.000       0.493       0.552\n",
      "Accuracy (Black)    -0.3788      0.015    -25.573      0.000      -0.408      -0.350\n",
      "Rating (White)       0.0027      0.000      9.145      0.000       0.002       0.003\n",
      "Rating (Black)      -0.0034      0.000    -10.889      0.000      -0.004      -0.003\n",
      "------------------------------------------------------------------------------------\n",
      "Result=White Win       coef    std err          z      P>|z|      [0.025      0.975]\n",
      "------------------------------------------------------------------------------------\n",
      "const               -1.7446      1.194     -1.462      0.144      -4.084       0.595\n",
      "Accuracy (White)     0.9136      0.020     45.557      0.000       0.874       0.953\n",
      "Accuracy (Black)    -0.8969      0.020    -45.602      0.000      -0.935      -0.858\n",
      "Rating (White)       0.0064      0.000     17.556      0.000       0.006       0.007\n",
      "Rating (Black)      -0.0063      0.000    -17.160      0.000      -0.007      -0.006\n",
      "====================================================================================\n"
     ]
    }
   ],
   "source": [
    "#Set y = results\n",
    "y = games_processed['Result']\n",
    "#Choose exogeneous variables\n",
    "x_cols = ['const' , 'Accuracy (White)' , 'Accuracy (Black)' , 'Rating (White)',  'Rating (Black)']\n",
    "x = games_processed[x_cols]\n",
    "### specify the model\n",
    "mdl = st.MNLogit(y,x)\n",
    "mdl_fit = mdl.fit()\n",
    "print(mdl_fit.summary()) "
   ]
  },
  {
   "cell_type": "markdown",
   "id": "7dd1ab75-f0dc-40ba-ae8f-cff60f5c1db1",
   "metadata": {},
   "source": [
    "## Time, Moves Count and Tournament Games\n",
    "\n",
    "As seen throughout the EDA phase, Time controls, moves count and Tournament games all affect the chances of Draws. Time controls can be be expressed as as a combination of Time and Interval, as Game Type ( Bullet, Blitz or Rapid ) as a Total Time. Propose three models with differing forms of representing time controls to build upon our baseline model.\n",
    "\n",
    "*Model 2a* adds Time, Interval, Moves Count and Tournament Game variables to *Model 1c*.\n",
    "\n",
    "*Model 2b* adds Game Type, Moves Count and Tournament Game variables to *Model 1c*.\n",
    "\n",
    "*Model 2c* adds Total Time, Moves Count and Tournament Game variables to *Model 1c*.\n",
    "\n",
    "In *Model 2a*, Time is highly significant for Draw predictions and insignificant regarding Black Wins and White Wins. Interval however is not significant for any category. The Pseudo R-square value has increased slightly to $0.6538$ from *Model 1c* value of $0.6511$\n",
    "\n",
    "In *Model 2b*, only Rapid Game Type is significant for draws, with Blitz being insignificant in draws and neither being significant for wins. That is to say that, in predicting draws, there is little difference in predictive power when compared to Bullet games, which is acting as our baseline in this model. The Pseudo R-square value is comparible to *Model 2a* with a value of $0.6537$.\n",
    "\n",
    "In *Model 2c*, the coefficient estimate for Total time is very similar to that of Time in *Model 2a*. The pseudo R-square value in *Model 2c* is lower however, with a value of $0.6521$. Representing time as Total time has resulted in a slight loss of information, in addition to this model being less interpretable than *Model 2a*. We can eliminate this model as a candidate.\n",
    "\n",
    "*Model 2a* and *Model 2b* are the remainnig candidate models. The pseudo R-square values for both are very similar. I chose to proceed with *Model 2a* and to drop the interval value from this model. There are a number of reasons for this. \n",
    "\n",
    "1. Information is preserved. Game types are categories of games based on ranges, and so much information can be lost in aggregating time controls to three game types.\n",
    "2. More easily interpretable\n",
    "3. Time is a continuous variable and so can be used in generating interaction terms.\n",
    "4. Reduces dimensionality by using continuous variables instead of dummy variables.\n",
    "\n",
    "In *Model 2a* Moves Count is significant for draws, this is as expected given our insights from EDA and choose to keep this in our model. \n",
    "\n",
    "Tournament games is significant also. This is somewhat unexpected as we saw that games results were found to be independent from whether or not a game was part of a tournament in the EDA phase. However, I chose to keep the variable in the model at this point as it is highly significant.\n",
    "\n",
    "\n",
    "**Model 2a**"
   ]
  },
  {
   "cell_type": "code",
   "execution_count": 84,
   "id": "7d962f62-ef25-48ae-9b41-afa5c9af9498",
   "metadata": {},
   "outputs": [
    {
     "name": "stdout",
     "output_type": "stream",
     "text": [
      "Optimization terminated successfully.\n",
      "         Current function value: 0.347113\n",
      "         Iterations 9\n",
      "                          MNLogit Regression Results                          \n",
      "==============================================================================\n",
      "Dep. Variable:                 Result   No. Observations:                10006\n",
      "Model:                        MNLogit   Df Residuals:                     9988\n",
      "Method:                           MLE   Df Model:                           16\n",
      "Date:                Thu, 02 Nov 2023   Pseudo R-squ.:                  0.6538\n",
      "Time:                        12:12:37   Log-Likelihood:                -3473.2\n",
      "converged:                       True   LL-Null:                       -10032.\n",
      "Covariance Type:            nonrobust   LLR p-value:                     0.000\n",
      "=====================================================================================\n",
      "      Result=Draw       coef    std err          z      P>|z|      [0.025      0.975]\n",
      "-------------------------------------------------------------------------------------\n",
      "const               -13.8216      1.341    -10.309      0.000     -16.449     -11.194\n",
      "Accuracy (White)      0.5109      0.015     33.573      0.000       0.481       0.541\n",
      "Accuracy (Black)     -0.3700      0.015    -24.155      0.000      -0.400      -0.340\n",
      "Rating (White)        0.0032      0.000      9.717      0.000       0.003       0.004\n",
      "Rating (Black)       -0.0028      0.000     -7.799      0.000      -0.003      -0.002\n",
      "Time                  0.0480      0.022      2.179      0.029       0.005       0.091\n",
      "Interval              0.0740      0.070      1.051      0.293      -0.064       0.212\n",
      "Moves Count           0.0092      0.002      4.075      0.000       0.005       0.014\n",
      "Tournament Game_Y     0.2372      0.104      2.283      0.022       0.034       0.441\n",
      "-------------------------------------------------------------------------------------\n",
      " Result=White Win       coef    std err          z      P>|z|      [0.025      0.975]\n",
      "-------------------------------------------------------------------------------------\n",
      "const                -2.3990      1.494     -1.606      0.108      -5.327       0.529\n",
      "Accuracy (White)      0.8923      0.020     43.813      0.000       0.852       0.932\n",
      "Accuracy (Black)     -0.8780      0.020    -43.901      0.000      -0.917      -0.839\n",
      "Rating (White)        0.0065      0.000     16.001      0.000       0.006       0.007\n",
      "Rating (Black)       -0.0061      0.000    -14.988      0.000      -0.007      -0.005\n",
      "Time                  0.0127      0.027      0.476      0.634      -0.040       0.065\n",
      "Interval              0.0110      0.088      0.125      0.900      -0.162       0.184\n",
      "Moves Count           0.0001      0.003      0.049      0.961      -0.005       0.005\n",
      "Tournament Game_Y     0.1004      0.123      0.816      0.415      -0.141       0.342\n",
      "=====================================================================================\n"
     ]
    }
   ],
   "source": [
    "#Set y = results\n",
    "y = games_processed['Result']\n",
    "#Choose exogeneous variables\n",
    "x_cols = ['const' , 'Accuracy (White)' , 'Accuracy (Black)' , 'Rating (White)', 'Rating (Black)' , 'Time' , 'Interval' , 'Moves Count' , 'Tournament Game_Y'  ]\n",
    "x = games_processed[x_cols]\n",
    "### specify the model\n",
    "mdl = st.MNLogit(y,x)\n",
    "mdl_fit = mdl.fit()\n",
    "print(mdl_fit.summary())"
   ]
  },
  {
   "cell_type": "markdown",
   "id": "a61909ae-0e0e-4a67-a39b-4e06e895d282",
   "metadata": {},
   "source": [
    "**Model 2b**"
   ]
  },
  {
   "cell_type": "code",
   "execution_count": 83,
   "id": "62866419",
   "metadata": {},
   "outputs": [
    {
     "name": "stdout",
     "output_type": "stream",
     "text": [
      "Optimization terminated successfully.\n",
      "         Current function value: 0.347178\n",
      "         Iterations 9\n",
      "                          MNLogit Regression Results                          \n",
      "==============================================================================\n",
      "Dep. Variable:                 Result   No. Observations:                10006\n",
      "Model:                        MNLogit   Df Residuals:                     9988\n",
      "Method:                           MLE   Df Model:                           16\n",
      "Date:                Thu, 02 Nov 2023   Pseudo R-squ.:                  0.6537\n",
      "Time:                        12:12:11   Log-Likelihood:                -3473.9\n",
      "converged:                       True   LL-Null:                       -10032.\n",
      "Covariance Type:            nonrobust   LLR p-value:                     0.000\n",
      "=====================================================================================\n",
      "      Result=Draw       coef    std err          z      P>|z|      [0.025      0.975]\n",
      "-------------------------------------------------------------------------------------\n",
      "const               -13.8700      1.389     -9.988      0.000     -16.592     -11.148\n",
      "Accuracy (White)      0.5124      0.015     33.632      0.000       0.483       0.542\n",
      "Accuracy (Black)     -0.3674      0.015    -24.023      0.000      -0.397      -0.337\n",
      "Rating (White)        0.0032      0.000      9.537      0.000       0.003       0.004\n",
      "Rating (Black)       -0.0028      0.000     -7.594      0.000      -0.003      -0.002\n",
      "Moves Count           0.0092      0.002      4.092      0.000       0.005       0.014\n",
      "Tournament Game_Y     0.2267      0.096      2.358      0.018       0.038       0.415\n",
      "Game Type_Blitz      -0.1024      0.139     -0.736      0.462      -0.375       0.171\n",
      "Game Type_Rapid       0.4826      0.232      2.084      0.037       0.029       0.936\n",
      "-------------------------------------------------------------------------------------\n",
      " Result=White Win       coef    std err          z      P>|z|      [0.025      0.975]\n",
      "-------------------------------------------------------------------------------------\n",
      "const                -1.9955      1.545     -1.292      0.196      -5.023       1.032\n",
      "Accuracy (White)      0.8943      0.020     43.814      0.000       0.854       0.934\n",
      "Accuracy (Black)     -0.8760      0.020    -43.848      0.000      -0.915      -0.837\n",
      "Rating (White)        0.0063      0.000     15.430      0.000       0.006       0.007\n",
      "Rating (Black)       -0.0061      0.000    -14.855      0.000      -0.007      -0.005\n",
      "Moves Count           0.0002      0.003      0.085      0.932      -0.005       0.005\n",
      "Tournament Game_Y     0.0961      0.113      0.848      0.397      -0.126       0.319\n",
      "Game Type_Blitz      -0.2042      0.151     -1.350      0.177      -0.501       0.092\n",
      "Game Type_Rapid      -0.0918      0.268     -0.342      0.732      -0.618       0.434\n",
      "=====================================================================================\n"
     ]
    }
   ],
   "source": [
    "#Set y = results\n",
    "y = games_processed['Result']\n",
    "#Choose exogeneous variables\n",
    "x_cols = ['const' , 'Accuracy (White)' , 'Accuracy (Black)' , 'Rating (White)', 'Rating (Black)' , 'Moves Count' , 'Tournament Game_Y' ,\t'Game Type_Blitz' ,\t'Game Type_Rapid' ]\n",
    "x = games_processed[x_cols]\n",
    "### specify the model\n",
    "mdl = st.MNLogit(y,x)\n",
    "mdl_fit = mdl.fit()\n",
    "print(mdl_fit.summary())"
   ]
  },
  {
   "cell_type": "markdown",
   "id": "64055e3c-2e4b-465c-bfb3-48282ed2533b",
   "metadata": {},
   "source": [
    "**Model 2c**"
   ]
  },
  {
   "cell_type": "code",
   "execution_count": 82,
   "id": "eb7c9627-afaa-4ef3-8a45-0a21de4fa51e",
   "metadata": {},
   "outputs": [
    {
     "name": "stdout",
     "output_type": "stream",
     "text": [
      "Optimization terminated successfully.\n",
      "         Current function value: 0.348773\n",
      "         Iterations 9\n",
      "                          MNLogit Regression Results                          \n",
      "==============================================================================\n",
      "Dep. Variable:                 Result   No. Observations:                10006\n",
      "Model:                        MNLogit   Df Residuals:                     9994\n",
      "Method:                           MLE   Df Model:                           10\n",
      "Date:                Thu, 02 Nov 2023   Pseudo R-squ.:                  0.6521\n",
      "Time:                        12:11:58   Log-Likelihood:                -3489.8\n",
      "converged:                       True   LL-Null:                       -10032.\n",
      "Covariance Type:            nonrobust   LLR p-value:                     0.000\n",
      "====================================================================================\n",
      "     Result=Draw       coef    std err          z      P>|z|      [0.025      0.975]\n",
      "------------------------------------------------------------------------------------\n",
      "const              -12.3461      1.230    -10.040      0.000     -14.756      -9.936\n",
      "Accuracy (White)     0.5171      0.015     34.424      0.000       0.488       0.547\n",
      "Accuracy (Black)    -0.3804      0.015    -25.563      0.000      -0.410      -0.351\n",
      "Rating (White)       0.0031      0.000      9.773      0.000       0.002       0.004\n",
      "Rating (Black)      -0.0028      0.000     -8.141      0.000      -0.003      -0.002\n",
      "Total Time           0.0520      0.014      3.761      0.000       0.025       0.079\n",
      "------------------------------------------------------------------------------------\n",
      "Result=White Win       coef    std err          z      P>|z|      [0.025      0.975]\n",
      "------------------------------------------------------------------------------------\n",
      "const               -2.1162      1.401     -1.510      0.131      -4.862       0.630\n",
      "Accuracy (White)     0.9103      0.020     45.302      0.000       0.871       0.950\n",
      "Accuracy (Black)    -0.8949      0.020    -45.404      0.000      -0.934      -0.856\n",
      "Rating (White)       0.0064      0.000     16.191      0.000       0.006       0.007\n",
      "Rating (Black)      -0.0061      0.000    -15.437      0.000      -0.007      -0.005\n",
      "Total Time           0.0107      0.017      0.633      0.527      -0.023       0.044\n",
      "====================================================================================\n"
     ]
    }
   ],
   "source": [
    "#Set y = results\n",
    "y = games_processed['Result']\n",
    "#Choose exogeneous variables\n",
    "x_cols = ['const' , 'Accuracy (White)' , 'Accuracy (Black)' , 'Rating (White)', 'Rating (Black)', 'Total Time' ]\n",
    "x = games_processed[x_cols]\n",
    "### specify the model\n",
    "mdl = st.MNLogit(y,x)\n",
    "mdl_fit = mdl.fit()\n",
    "print(mdl_fit.summary())"
   ]
  },
  {
   "cell_type": "markdown",
   "id": "14652ce1-919c-4ac2-962a-caffbb6e5cd2",
   "metadata": {},
   "source": [
    "## Interactions of Time and Moves Count"
   ]
  },
  {
   "cell_type": "markdown",
   "id": "9693a4cd-a920-47cf-8a6c-7f2d4d4423f7",
   "metadata": {},
   "source": [
    "Based on relationship discovered in EDA phase between Time and Moves count, I elect to add an interaction term in the model to create *Model 3*. \n",
    "\n",
    "To recap, as draws are more likely at high moves counts, with the extent of this being inversely proportional to Time. Draws are more likely as time increases, but the contribution of moves count to these results in minimised with increased Time allotment.\n",
    "\n",
    "The below model sees an improved Pseudo R-square value and greater interaction term between has improved p values for Time, and Moves count, in addition to the interaction term being significant.\n",
    "\n",
    "The model coefficients have changed significantly from the previous model. For Draw classifications, we have coefficient estimates of $0.1424$, $0.0163$ and $-.0015$ for Time, Moves Count and Time:Moves Count respectively.\n",
    "\n",
    "From these coefficient estimates, the relationship between Move Count and Time as above is apparent and captured in our model. At low time controls, say Time = 1 minute, Moves Count has a strong influence on draw probabilities, with each move increasing log probability by  $0.0163 -.0015 \\times (1) = 0.148$. However, at Time = 10 minutes, the strength of the interaction term is increased ten fold and so, by the same calculation, each move increasing log probability by $0.0163 -.0015 \\times (10) = 0.0013$. This captures the relationship discussed above and uncovered in the EDA phase.\n",
    "\n",
    "**Model 3**"
   ]
  },
  {
   "cell_type": "code",
   "execution_count": 81,
   "id": "cacad385-b01a-408b-9722-23898df31ce9",
   "metadata": {},
   "outputs": [
    {
     "name": "stderr",
     "output_type": "stream",
     "text": [
      "C:\\Users\\colmc\\AppData\\Local\\Temp\\ipykernel_19680\\2723441426.py:12: SettingWithCopyWarning: \n",
      "A value is trying to be set on a copy of a slice from a DataFrame.\n",
      "Try using .loc[row_indexer,col_indexer] = value instead\n",
      "\n",
      "See the caveats in the documentation: https://pandas.pydata.org/pandas-docs/stable/user_guide/indexing.html#returning-a-view-versus-a-copy\n",
      "  x['Time:Moves Count'] = X_tr[:,3]\n"
     ]
    },
    {
     "name": "stdout",
     "output_type": "stream",
     "text": [
      "Optimization terminated successfully.\n",
      "         Current function value: 0.346344\n",
      "         Iterations 9\n",
      "                          MNLogit Regression Results                          \n",
      "==============================================================================\n",
      "Dep. Variable:                 Result   No. Observations:                10006\n",
      "Model:                        MNLogit   Df Residuals:                     9988\n",
      "Method:                           MLE   Df Model:                           16\n",
      "Date:                Thu, 02 Nov 2023   Pseudo R-squ.:                  0.6545\n",
      "Time:                        12:11:32   Log-Likelihood:                -3465.5\n",
      "converged:                       True   LL-Null:                       -10032.\n",
      "Covariance Type:            nonrobust   LLR p-value:                     0.000\n",
      "=====================================================================================\n",
      "      Result=Draw       coef    std err          z      P>|z|      [0.025      0.975]\n",
      "-------------------------------------------------------------------------------------\n",
      "const               -14.3896      1.336    -10.768      0.000     -17.009     -11.771\n",
      "Accuracy (White)      0.5105      0.015     33.483      0.000       0.481       0.540\n",
      "Accuracy (Black)     -0.3689      0.015    -24.033      0.000      -0.399      -0.339\n",
      "Rating (White)        0.0032      0.000      9.750      0.000       0.003       0.004\n",
      "Rating (Black)       -0.0027      0.000     -7.748      0.000      -0.003      -0.002\n",
      "Tournament Game_Y     0.2672      0.098      2.715      0.007       0.074       0.460\n",
      "Time                  0.1424      0.034      4.227      0.000       0.076       0.208\n",
      "Moves Count           0.0163      0.003      4.865      0.000       0.010       0.023\n",
      "Time:Moves Count     -0.0015      0.001     -2.792      0.005      -0.003      -0.000\n",
      "-------------------------------------------------------------------------------------\n",
      " Result=White Win       coef    std err          z      P>|z|      [0.025      0.975]\n",
      "-------------------------------------------------------------------------------------\n",
      "const                -2.2828      1.487     -1.535      0.125      -5.197       0.631\n",
      "Accuracy (White)      0.8921      0.020     43.716      0.000       0.852       0.932\n",
      "Accuracy (Black)     -0.8775      0.020    -43.807      0.000      -0.917      -0.838\n",
      "Rating (White)        0.0064      0.000     15.980      0.000       0.006       0.007\n",
      "Rating (Black)       -0.0061      0.000    -15.004      0.000      -0.007      -0.005\n",
      "Tournament Game_Y     0.1084      0.115      0.939      0.348      -0.118       0.335\n",
      "Time                 -0.0062      0.042     -0.149      0.882      -0.088       0.075\n",
      "Moves Count          -0.0014      0.004     -0.358      0.720      -0.009       0.006\n",
      "Time:Moves Count      0.0003      0.001      0.536      0.592      -0.001       0.002\n",
      "=====================================================================================\n"
     ]
    }
   ],
   "source": [
    "#import library for polynomial feature \n",
    "from sklearn.preprocessing import PolynomialFeatures\n",
    "import scipy.special\n",
    "#Set y = results\n",
    "y = games_processed['Result']\n",
    "#Choose exogeneous variables\n",
    "x_cols = [ 'const' , 'Accuracy (White)' , 'Accuracy (Black)' , 'Rating (White)', 'Rating (Black)' , 'Tournament Game_Y', 'Time' ,  'Moves Count']\n",
    "x = games_processed[x_cols]\n",
    "#create and add interaction term to exogeneous variables\n",
    "poly = PolynomialFeatures(interaction_only=True , degree=3);\n",
    "X_tr = poly.fit_transform(games_processed[['Time' , 'Moves Count']]);\n",
    "x['Time:Moves Count'] = X_tr[:,3]\n",
    "### specify the model\n",
    "mdl = st.MNLogit(y,x)\n",
    "mdl_fit = mdl.fit()\n",
    "print(mdl_fit.summary())"
   ]
  },
  {
   "cell_type": "markdown",
   "id": "e327e7d7-4397-4ce7-880e-4418d0c038fe",
   "metadata": {},
   "source": [
    "## Final Model Discussion\n",
    "\n",
    "The final alteration in this model building process will be to change the baseline from 'Black Win' to 'Draw'.\n",
    "\n",
    "The Final model has a Pseudo R_square value of $0.6549$, meaning that this explains $65.49\\%$ of the variability in game results. \n",
    "\n",
    "The coefficient estimates allow for some interesting insights that align with the takeaways from EDA phase.\n",
    "\n",
    "To begin, White win has a greater *intercept* term than that of Black Win. This indicates a higher baseline log odds for White winning than Black winning relative to a Draw result. This reflects the inate advantage that white pieces retain in comparison to the black pieces.\n",
    "\n",
    "As expected, higher *Accuracy* scores in comparison to your opponent result in higher log odds of winning. Coefficient estimates for Accuracy (White) and Accuracy (Black) are approximately equal and opposite for White Win and Black Win outcomes. To generalise, a players log odds of winning increase by approximately $0.38$ for each percentage of accuracy score and decrease by approximately $0.51$ for each percentage of accuracy score gained by their opponent. This is regardless of whether the player has the Black or White pieces.\n",
    "\n",
    "Similarly, higher *Rating* are connected with higher log odds of winning. For both Black Win and White Win, the coefficient estimates are very similar in magnitude for Rating (White) and Rating (Black) but opposite in direction. The magnitude of estimates is small, but ratings for our dataset range from 1800 to over 3000 and with large differences in rating, the log odds can be greatly impacted. With all else equal, the player with the higher rating will have greater log odds of winning that their opponent. Further, the greater the difference, the greater the impact on log odds. With small differences in rating, the odds become much more even and draws become more likely.\n",
    "\n",
    "Coefficient estimates for *Tournament Games* is negative for both Black Win and White Win. This indicates that in tournaments, draws are more likely to occur in comparison to a winning outcome.\n",
    "\n",
    "Similarly, estimates for *Time* and *Moves Count* are negative for both Black Win and White Win outcomes, indicating that with higher Time controls and at higher move counts, the log odds of a Draw increase.\n",
    "\n",
    "The interaction term *Time:Moves Count* has a negligible impact on log odds of winning outcomes, with magnitude of coefficient estimates in the final model being very small. As discussed in the previous section, this interaction term serves to dampen the impact of Moves Counts on drawing probability as Time increases. Draws are more likely at higher moves counts, but the extent of which is inversely proportional to Time. This interaction term captures this relationship.\n",
    "\n",
    "I am satisfied with this as the Final Multinomial Logistic Regression Model. I believe this model effectively captures and quantifies the relationship between the dataset features and game outcomes. I belive it will of interest to many who, like I, wish to further their understanding of the game of chess.\n",
    "\n",
    "**Final Multinomial Logistic Regression Model**"
   ]
  },
  {
   "cell_type": "code",
   "execution_count": 80,
   "id": "a792b460-1bab-438b-99d5-26e4e68bbedb",
   "metadata": {},
   "outputs": [
    {
     "name": "stderr",
     "output_type": "stream",
     "text": [
      "C:\\Users\\colmc\\AppData\\Local\\Temp\\ipykernel_19680\\1277457372.py:5: SettingWithCopyWarning: \n",
      "A value is trying to be set on a copy of a slice from a DataFrame.\n",
      "Try using .loc[row_indexer,col_indexer] = value instead\n",
      "\n",
      "See the caveats in the documentation: https://pandas.pydata.org/pandas-docs/stable/user_guide/indexing.html#returning-a-view-versus-a-copy\n",
      "  x['Time:Moves Count'] = X_tr[:,3]\n"
     ]
    },
    {
     "name": "stdout",
     "output_type": "stream",
     "text": [
      "Optimization terminated successfully.\n",
      "         Current function value: 0.345957\n",
      "         Iterations 9\n",
      "                          MNLogit Regression Results                          \n",
      "==============================================================================\n",
      "Dep. Variable:                 Result   No. Observations:                10006\n",
      "Model:                        MNLogit   Df Residuals:                     9988\n",
      "Method:                           MLE   Df Model:                           16\n",
      "Date:                Thu, 02 Nov 2023   Pseudo R-squ.:                  0.6549\n",
      "Time:                        12:10:23   Log-Likelihood:                -3461.6\n",
      "converged:                       True   LL-Null:                       -10032.\n",
      "Covariance Type:            nonrobust   LLR p-value:                     0.000\n",
      "=====================================================================================\n",
      " Result=Black Win       coef    std err          z      P>|z|      [0.025      0.975]\n",
      "-------------------------------------------------------------------------------------\n",
      "const                12.4809      1.411      8.844      0.000       9.715      15.247\n",
      "Accuracy (White)     -0.5113      0.015    -33.553      0.000      -0.541      -0.481\n",
      "Accuracy (Black)      0.3723      0.015     24.208      0.000       0.342       0.402\n",
      "Rating (White)       -0.0033      0.000    -10.042      0.000      -0.004      -0.003\n",
      "Rating (Black)        0.0035      0.000      7.901      0.000       0.003       0.004\n",
      "Tournament Game_Y    -0.2525      0.098     -2.564      0.010      -0.446      -0.059\n",
      "Time                 -0.0450      0.018     -2.502      0.012      -0.080      -0.010\n",
      "Moves Count          -0.0089      0.002     -3.957      0.000      -0.013      -0.004\n",
      "Time:Moves Count  -8.651e-05   2.93e-05     -2.955      0.003      -0.000   -2.91e-05\n",
      "-------------------------------------------------------------------------------------\n",
      " Result=White Win       coef    std err          z      P>|z|      [0.025      0.975]\n",
      "-------------------------------------------------------------------------------------\n",
      "const                13.0570      1.415      9.225      0.000      10.283      15.831\n",
      "Accuracy (White)      0.3828      0.015     25.605      0.000       0.354       0.412\n",
      "Accuracy (Black)     -0.5122      0.014    -35.564      0.000      -0.540      -0.484\n",
      "Rating (White)        0.0034      0.000      9.565      0.000       0.003       0.004\n",
      "Rating (Black)       -0.0040      0.000     -9.332      0.000      -0.005      -0.003\n",
      "Tournament Game_Y    -0.1921      0.096     -2.005      0.045      -0.380      -0.004\n",
      "Time                 -0.0642      0.018     -3.642      0.000      -0.099      -0.030\n",
      "Moves Count          -0.0090      0.002     -4.139      0.000      -0.013      -0.005\n",
      "Time:Moves Count   6.536e-05   2.66e-05      2.452      0.014    1.31e-05       0.000\n",
      "=====================================================================================\n"
     ]
    }
   ],
   "source": [
    "y_draw = games_processed['Result'].copy().astype('category').cat.reorder_categories(new_categories = ['Draw' ,'Black Win', 'White Win'] , ordered =  True)\n",
    "#Choose exogeneous variables\n",
    "x_cols = [ 'const' , 'Accuracy (White)' , 'Accuracy (Black)' , 'Rating (White)', 'Rating (Black)' , 'Tournament Game_Y', 'Time' ,  'Moves Count']\n",
    "x = games_processed[x_cols]\n",
    "x['Time:Moves Count'] = X_tr[:,3]\n",
    "### specify the model\n",
    "mdl = st.MNLogit(y_draw,x)\n",
    "mdl_fit = mdl.fit()\n",
    "print(mdl_fit.summary())"
   ]
  },
  {
   "cell_type": "markdown",
   "id": "846ed12a-1964-42d6-957e-2507b554b232",
   "metadata": {},
   "source": [
    "## Forecasting Game outcomes\n",
    "\n",
    "Having maticuliously built this Multinomial logistic regression model, we must now test how this model performs in forescasting game outcomes. We initiate this process by simply splitting the data into training and test sets, and asessing the model performance using a classification report."
   ]
  },
  {
   "cell_type": "code",
   "execution_count": 91,
   "id": "6e5db0cf-5d2a-458a-9da7-3b62e3b5652d",
   "metadata": {},
   "outputs": [
    {
     "name": "stderr",
     "output_type": "stream",
     "text": [
      "C:\\Users\\colmc\\AppData\\Local\\Temp\\ipykernel_19680\\4157834254.py:3: SettingWithCopyWarning: \n",
      "A value is trying to be set on a copy of a slice from a DataFrame.\n",
      "Try using .loc[row_indexer,col_indexer] = value instead\n",
      "\n",
      "See the caveats in the documentation: https://pandas.pydata.org/pandas-docs/stable/user_guide/indexing.html#returning-a-view-versus-a-copy\n",
      "  X['Time:Moves Count'] = X_tr[:,3]\n"
     ]
    },
    {
     "name": "stdout",
     "output_type": "stream",
     "text": [
      "Optimization terminated successfully.\n",
      "         Current function value: 0.355357\n",
      "         Iterations 9\n",
      "              precision    recall  f1-score   support\n",
      "\n",
      "   Black Win       0.89      0.93      0.91      1130\n",
      "        Draw       0.79      0.69      0.74       411\n",
      "   White Win       0.93      0.93      0.93      1461\n",
      "\n",
      "    accuracy                           0.90      3002\n",
      "   macro avg       0.87      0.85      0.86      3002\n",
      "weighted avg       0.90      0.90      0.90      3002\n",
      "\n",
      "[[1052   36   42]\n",
      " [  68  283   60]\n",
      " [  63   39 1359]]\n"
     ]
    }
   ],
   "source": [
    "x_cols = ['const' , 'Accuracy (White)' , 'Accuracy (Black)' , 'Rating (White)', 'Rating (Black)' , 'Tournament Game_Y', 'Time' , 'Moves Count']\n",
    "X = games_processed[x_cols]\n",
    "X['Time:Moves Count'] = X_tr[:,3]\n",
    "\n",
    "X_train, X_test, y_train, y_test = train_test_split(X, y, test_size=0.3, random_state= 0)\n",
    "mdl = st.MNLogit(y_train,X_train)\n",
    "mdl_fit = mdl.fit()\n",
    "\n",
    "predictions = mdl_fit.predict(X_test).idxmax(axis=1).replace( {0 : 'Black Win' , 1: 'Draw' , 2 : 'White Win'})\n",
    "print(classification_report(y_test,predictions))\n",
    "print(confusion_matrix(y_test,predictions))"
   ]
  },
  {
   "cell_type": "markdown",
   "id": "088cd8fa-8990-4714-8306-703ed3165c5e",
   "metadata": {},
   "source": [
    "The model performs very well, achieving an accuracy score of $90\\%$. This model performs particularly well for White Win and Black win, achieving very high precision and recall scores. The model does not perform as well for Draw game outcomes, with precision, recall and f1-scores all being much lower than win categories. \n",
    "\n",
    "It is important at this point to recall that our data is unbalanced, with draws being underrepresented in our games outcomes. As we discussed in EDA phase, resampling methods can be used to address this. Let us use SMOTE algorithm to resample the training data such that we have an even amount of outcomes for all categories and rerun our prediction on the test data."
   ]
  },
  {
   "cell_type": "code",
   "execution_count": 92,
   "id": "7c3173b1-865c-4963-a97e-d5ad4b80f506",
   "metadata": {},
   "outputs": [
    {
     "name": "stdout",
     "output_type": "stream",
     "text": [
      "Result\n",
      "Black Win    3236\n",
      "Draw         3236\n",
      "White Win    3236\n",
      "Name: count, dtype: int64\n",
      "Optimization terminated successfully.\n",
      "         Current function value: 0.391373\n",
      "         Iterations 9\n",
      "              precision    recall  f1-score   support\n",
      "\n",
      "   Black Win       0.94      0.89      0.91      1130\n",
      "        Draw       0.63      0.89      0.74       411\n",
      "   White Win       0.96      0.89      0.92      1461\n",
      "\n",
      "    accuracy                           0.89      3002\n",
      "   macro avg       0.84      0.89      0.86      3002\n",
      "weighted avg       0.91      0.89      0.89      3002\n",
      "\n",
      "[[1005   97   28]\n",
      " [  23  365   23]\n",
      " [  46  114 1301]]\n"
     ]
    }
   ],
   "source": [
    "from imblearn.over_sampling import SMOTE\n",
    "# Oversampling using SMOTE for multi-class\n",
    "smote = SMOTE(random_state=42)\n",
    "X_resampled, y_resampled = smote.fit_resample(X_train, y_train)\n",
    "\n",
    "print(y_resampled.value_counts())\n",
    "\n",
    "mdl = st.MNLogit(y_resampled,X_resampled)\n",
    "mdl_fit = mdl.fit()\n",
    "\n",
    "predictions = mdl_fit.predict(X_test).idxmax(axis=1).replace( {0 : 'Black Win' , 1: 'Draw' , 2 : 'White Win'})\n",
    "print(classification_report(y_test,predictions))\n",
    "print(confusion_matrix(y_test,predictions))"
   ]
  },
  {
   "cell_type": "markdown",
   "id": "aa736331-1009-401f-8830-ad16fe90f090",
   "metadata": {},
   "source": [
    "Interestingly, overall accuracy has lowered to $89\\%$. This means that the overall number of correct predictions has **decreased by 1%** as a result of resampling.\n",
    "\n",
    "Resampling has increased precision for Black Win and White win, reducing recall in these categories.\n",
    "\n",
    "Most noticeably, the precision value for Draws has greatly decreased while the recall value has greatly increased. Although both values have changed significantly, the f1-score remains unchanged. \n",
    "\n",
    "In lehmans terms, resampling has resulted in more games being classified as draws and and more actual draws being classified correctly overall. This is at the expense of more games being incorrectly classified as draws. \n",
    "\n",
    "Whether or not this is appropriate depends on our needs. Our goal is to create classification alogorithms to correctly classify as many games as possible, and so accuracy is prioritised. Resampling has reduced our overall accuracy, and so I conclude that the model fitted to the data before resampling is superior.\n",
    "\n"
   ]
  },
  {
   "cell_type": "markdown",
   "id": "dba82aef-ba32-432d-9dbd-168732f272da",
   "metadata": {},
   "source": [
    "# Further Model Building and Forecasting\n",
    "\n",
    "Before drawing final conclusions, I will build other classification algorithms in order to gain a frame of referance for the overall performance of the Multinomial Logistic Model we have built and to attempt to maximise predictive accuracy.\n",
    "\n",
    "The models I will be considering are:  \n",
    "\n",
    "* **Random Forest Classifier**\n",
    "* **K Nearest Neighbour Classifier**\n",
    "* **Support Vector Machine**\n",
    "\n",
    "For Random Forest classifier, we will be using the Accuracy, Rating, Title, Tournament Game, Time , Interval, Moves Counts columns from our data. For KNN and Support Vector Machine classifiers, the Title variables will be removed to eliminate the colinearity with Results.\n",
    "\n",
    "## Random Forest Classifier \n",
    "\n",
    "The random forest classifier displays impressive performance with an accuracy score of $90\\%$, matching the accuracy score of the Multinomial Logistic Regression model. Both models demonstrate similar performance across all metrics and classes.\r\n",
    "\r\n",
    "As the Random Forest Classifier is often utilized as a benchmark in classification tasks, achieving comparable performance with the Multinomial Logistic Regression is highly gratifying.\r\n",
    "\r\n",
    "Our objective has been to comprehend the underlying factors influencing chess games and construct reliable classification models. I find it gratifying that the straightforward regression model, which offers ease of interpretation and valuable insights, can match the performance of the significantly more intricate Random Forest in classification."
   ]
  },
  {
   "cell_type": "code",
   "execution_count": 51,
   "id": "caefe268-ca70-4069-a756-2d20c835be5d",
   "metadata": {},
   "outputs": [
    {
     "name": "stdout",
     "output_type": "stream",
     "text": [
      "              precision    recall  f1-score   support\n",
      "\n",
      "   Black Win       0.91      0.92      0.91      1130\n",
      "        Draw       0.77      0.71      0.74       411\n",
      "   White Win       0.92      0.93      0.92      1461\n",
      "\n",
      "    accuracy                           0.90      3002\n",
      "   macro avg       0.86      0.85      0.86      3002\n",
      "weighted avg       0.89      0.90      0.89      3002\n",
      "\n",
      "[[1038   37   55]\n",
      " [  56  291   64]\n",
      " [  52   51 1358]]\n"
     ]
    }
   ],
   "source": [
    "from sklearn.ensemble import RandomForestClassifier\n",
    "\n",
    "x_cols = ['Accuracy (White)' , 'Accuracy (Black)' , 'Rating (White)', 'Rating (Black)' , 'Title (White)' , 'Title (Black)' , 'Tournament Game_Y', 'Time' , 'Interval' , 'Moves Count']\n",
    "X = games_processed[x_cols]\n",
    "X_train, X_test, y_train, y_test = train_test_split(X, y, test_size=0.3, random_state= 0)\n",
    "\n",
    "clf = RandomForestClassifier()\n",
    "clf.fit(X_train, y_train)\n",
    "\n",
    "#test the classifier\n",
    "predictions = clf.predict(X_test)\n",
    "print(classification_report(y_test,predictions))\n",
    "print(confusion_matrix(y_test,predictions))"
   ]
  },
  {
   "cell_type": "markdown",
   "id": "9bb4f152-51c6-4c1f-9fd9-452e54ec1d6c",
   "metadata": {},
   "source": [
    "## K Nearest Neighbour Classifier\n",
    "\n",
    "KNN classification requires much more preperation than that of the ever-robust Random Forest method. The following will scale the training and test data for exogeneous variables aswel as search among values $K = 1,2,...50$ for the model KNN model with the minimum error rate. \n",
    "\n",
    "Following this process, the optimal value for $K$ is determined to be $45$. The KNN classifier with $K = 45$ achieves an accuracy score of $87 \\%$. However, this accuracy is lower than both the Multinomial Logistic Regression model and the Random Forest Classifier."
   ]
  },
  {
   "cell_type": "code",
   "execution_count": 94,
   "id": "a349fb7e-c9a3-4fba-ae44-b833668abc3d",
   "metadata": {},
   "outputs": [
    {
     "data": {
      "text/plain": [
       "Text(0, 0.5, 'Error Rate')"
      ]
     },
     "execution_count": 94,
     "metadata": {},
     "output_type": "execute_result"
    },
    {
     "data": {
      "image/png": "[encoded data removed]",
      "text/plain": [
       "<Figure size 1000x600 with 1 Axes>"
      ]
     },
     "metadata": {},
     "output_type": "display_data"
    }
   ],
   "source": [
    "from sklearn.preprocessing import StandardScaler\n",
    "from sklearn.neighbors import KNeighborsClassifier\n",
    "\n",
    "\n",
    "#Set y = results\n",
    "y = games_processed['Result']\n",
    "#Choose exogeneous variables\n",
    "x_cols = [ 'const' , 'Accuracy (White)' , 'Accuracy (Black)' , 'Rating (White)', 'Rating (Black)' , 'Tournament Game_Y', 'Time' , 'Interval' , 'Moves Count']\n",
    "X = games_processed[x_cols]\n",
    "#Create Train-Test Split\n",
    "X_train, X_test, y_train, y_test = train_test_split(X, y, test_size=0.3, random_state= 0)\n",
    "#create array to store error rates\n",
    "error_rate = []\n",
    "#Scale features\n",
    "scaler = StandardScaler()\n",
    "X_train_scaled = scaler.fit_transform(X_train)\n",
    "X_test_scaled = scaler.transform(X_test)\n",
    "\n",
    "# Will take some time\n",
    "for i in range(1,50):\n",
    "    \n",
    "    knn = KNeighborsClassifier(n_neighbors=i)\n",
    "    knn.fit(X_train_scaled , y_train)\n",
    "    pred_i = knn.predict(X_test_scaled)\n",
    "    error_rate.append(np.mean(pred_i != y_test))\n",
    "    \n",
    "plt.figure(figsize=(10,6))\n",
    "plt.plot(range(1,50),error_rate,color='blue', linestyle='dashed', marker='o',\n",
    "         markerfacecolor='red', markersize=10)\n",
    "plt.title('Error Rate vs. K Value')\n",
    "plt.xlabel('K')\n",
    "plt.ylabel('Error Rate')"
   ]
  },
  {
   "cell_type": "code",
   "execution_count": 95,
   "id": "4141a755-cce7-4b5e-be26-bc83a3ea12c1",
   "metadata": {},
   "outputs": [
    {
     "name": "stdout",
     "output_type": "stream",
     "text": [
      "The K Value with minimum error rate is K =  45\n",
      "              precision    recall  f1-score   support\n",
      "\n",
      "   Black Win       0.87      0.92      0.89      1130\n",
      "        Draw       0.78      0.49      0.60       411\n",
      "   White Win       0.88      0.93      0.91      1461\n",
      "\n",
      "    accuracy                           0.87      3002\n",
      "   macro avg       0.84      0.78      0.80      3002\n",
      "weighted avg       0.86      0.87      0.86      3002\n",
      "\n"
     ]
    }
   ],
   "source": [
    "for i in range(len(error_rate)):\n",
    "    if error_rate[i] == min(error_rate):\n",
    "        K = i+1\n",
    "        print(\"The K Value with minimum error rate is K = \" , K )\n",
    "        break\n",
    "\n",
    "knn = KNeighborsClassifier(n_neighbors=K)\n",
    "knn.fit(X_train_scaled , y_train)\n",
    "\n",
    "#test the classifier\n",
    "predictions = knn.predict(X_test_scaled)\n",
    "print(classification_report(y_test,predictions))"
   ]
  },
  {
   "cell_type": "markdown",
   "id": "c4d3b0e7-9c5e-4c78-bb8f-afe7ff8c6899",
   "metadata": {},
   "source": [
    "## Support Vector Machine\n",
    "\n",
    "Similar to the optimization process for the KNN model, the Support Vector Machine (SVM) classification model requires fine-tuning. Once again, scaled data is employed to enhance the model's performance. A grid search is executed to explore the $C$ and $\\gamma$ parameters of the Support Vector Classifier (SVC).\n",
    "\n",
    "The optimal parameter values identified are $C = 100$ and $ \\gamma = 001$.\n",
    "\n",
    "Subsequently, the final SVC model surpasses the performance of both the Multinomial Logistic Regression model and the Random Forest Classifier, achieving an accuracy score of $91\\%$. Moreover, it showcases superior F1-scores for each individual class.\n",
    "\n",
    "As a classification algorithm, this SVC demonstrates its prowess, emerging as the top-performingo\n",
    "\n",
    "SVMs exhibit strong performance when the data shows linear separability, signifying that distinct classes can be clearly demarcated by a straight line or hyperplane within the feature space. During the Exploratory Data Analysis (EDA) phase, it was revealed that features such as game Accuracy Difference and Rating Difference exhibited markedly different distributions when partitioned by game outcomes. This distinction in distributions signifies linear separability within the data.\n",
    "\n",
    "This characteristic of the data, where distinct classes possess clear separations, renders the SVM a suitable and effective moded.ntext."
   ]
  },
  {
   "cell_type": "code",
   "execution_count": 96,
   "id": "b142e370-59b4-41d2-801e-fff3cdababa5",
   "metadata": {},
   "outputs": [
    {
     "name": "stdout",
     "output_type": "stream",
     "text": [
      "{'C': 100, 'gamma': 0.01}\n",
      "              precision    recall  f1-score   support\n",
      "\n",
      "   Black Win       0.92      0.93      0.92      1130\n",
      "        Draw       0.79      0.78      0.79       411\n",
      "   White Win       0.94      0.94      0.94      1461\n",
      "\n",
      "    accuracy                           0.91      3002\n",
      "   macro avg       0.88      0.88      0.88      3002\n",
      "weighted avg       0.91      0.91      0.91      3002\n",
      "\n"
     ]
    }
   ],
   "source": [
    "# Grid Search CV\n",
    "from sklearn.svm import SVC\n",
    "from sklearn.model_selection import GridSearchCV\n",
    "param_grid = {'C': [0.1,1, 10, 100], 'gamma': [1,0.1,0.01,0.001]} \n",
    "grid = GridSearchCV(SVC(),param_grid,refit=True,verbose=0)\n",
    "grid.fit(X_train_scaled,y_train)\n",
    "\n",
    "svc_model = SVC(gamma=grid.best_params_['gamma'] , C=grid.best_params_['C'])\n",
    "svc_model.fit(X_train_scaled, y_train)\n",
    "predictions = svc_model.predict(X_test_scaled)\n",
    "\n",
    "print(grid.best_params_)\n",
    "print(classification_report(y_test,predictions))"
   ]
  },
  {
   "attachments": {},
   "cell_type": "markdown",
   "id": "50ecab90-25e4-40f0-bc4f-e8b15428de7b",
   "metadata": {},
   "source": [
    "# Conclusion and Final Comments \n",
    "\n",
    "I believe this analysis has generated fascinating insights into the Game of Kings through exploratory data analysis.\n",
    "\n",
    "I believe that the Multinomial Logistic Regression model effectively captures and quantifies the relationship between the dataset features and game outcomes, building upon what we learned in EDA phase. \n",
    "\n",
    "Finally, I believe that the Support Vector Machine model excels in predicting game outcomes, having achieved a $91\\%$ accuracy in testing. \n",
    "\n",
    "The Goals set out at the beginning of this phase have been achieved. This analysis is not without its shortfalls. To conclude this analysis, I want to discuss one important limitation of this analysis and these models.\n",
    "\n",
    "Before that, I want to **thank you** for reading. I have thoroughly enjoyed this analysis and I hope that, whether you are a seasoned chess pro or someone who has never played the game, that you have enjoyed this analysis as much as I have.\n",
    "\n",
    "## Look Ahead Bias \n",
    "\n",
    "Look-ahead bias is an issue in machine learning where information is inadvertently used to make predictions or decisions at a time when that information would not have been available in a real-world scenario.\n",
    "\n",
    "Accuracy scores and Moves Count have been prominent in this analysis. However, theses values would not be known in advance of a given game, but are a product of the game itself. As a result, these models suffer from look ahead bias and are not appropriate for predicting a games outcome in advance. \n",
    "\n",
    "This does not render these models useless. A primary goal of this analysis has been in understand the game to a deeper level, and model building has helped achieve this. Further, these models are useful for scenario-testing, odds calculations and more. However, their use is limited by this bias.\n",
    "\n",
    "As mentioned prior, a logical progression from this analysis would be to forecast player accuracy scores. While this is out of scope for this analysis, models which forecast player accuracy scores and/or moves counts could be combined with models built in this analysis to circumvent this issue. "
   ]
  }
 ],
 "metadata": {
  "kernelspec": {
   "display_name": "Python 3 (ipykernel)",
   "language": "python",
   "name": "python3"
  },
  "language_info": {
   "codemirror_mode": {
    "name": "ipython",
    "version": 3
   },
   "file_extension": ".py",
   "mimetype": "text/x-python",
   "name": "python",
   "nbconvert_exporter": "python",
   "pygments_lexer": "ipython3",
   "version": "3.11.4"
  }
 },
 "nbformat": 4,
 "nbformat_minor": 5
}
